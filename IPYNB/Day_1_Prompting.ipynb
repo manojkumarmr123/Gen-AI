{
  "metadata": {
    "kernelspec": {
      "name": "python3",
      "display_name": "Python 3",
      "language": "python"
    },
    "language_info": {
      "name": "python",
      "version": "3.10.14",
      "mimetype": "text/x-python",
      "codemirror_mode": {
        "name": "ipython",
        "version": 3
      },
      "pygments_lexer": "ipython3",
      "nbconvert_exporter": "python",
      "file_extension": ".py"
    },
    "colab": {
      "name": "Day 1 - Prompting",
      "provenance": [],
      "include_colab_link": true
    },
    "kaggle": {
      "accelerator": "none",
      "dataSources": [],
      "dockerImageVersionId": 30786,
      "isInternetEnabled": true,
      "language": "python",
      "sourceType": "notebook",
      "isGpuEnabled": false
    }
  },
  "nbformat_minor": 0,
  "nbformat": 4,
  "cells": [
    {
      "cell_type": "markdown",
      "metadata": {
        "id": "view-in-github",
        "colab_type": "text"
      },
      "source": [
        "<a href=\"https://colab.research.google.com/github/manojkumarmr123/Gen-AI/blob/main/Day_1_Prompting.ipynb\" target=\"_parent\"><img src=\"https://colab.research.google.com/assets/colab-badge.svg\" alt=\"Open In Colab\"/></a>"
      ]
    },
    {
      "cell_type": "markdown",
      "source": [
        "##### Copyright 2025 Google LLC."
      ],
      "metadata": {
        "id": "jkxRSYjzA1oX"
      }
    },
    {
      "cell_type": "code",
      "source": [
        "# @title Licensed under the Apache License, Version 2.0 (the \"License\");\n",
        "# you may not use this file except in compliance with the License.\n",
        "# You may obtain a copy of the License at\n",
        "#\n",
        "# https://www.apache.org/licenses/LICENSE-2.0\n",
        "#\n",
        "# Unless required by applicable law or agreed to in writing, software\n",
        "# distributed under the License is distributed on an \"AS IS\" BASIS,\n",
        "# WITHOUT WARRANTIES OR CONDITIONS OF ANY KIND, either express or implied.\n",
        "# See the License for the specific language governing permissions and\n",
        "# limitations under the License."
      ],
      "metadata": {
        "cellView": "form",
        "id": "5u5OZ2ShA3BA",
        "jupyter": {
          "source_hidden": true
        },
        "trusted": true,
        "execution": {
          "iopub.status.busy": "2025-03-31T10:03:40.865029Z",
          "iopub.execute_input": "2025-03-31T10:03:40.865454Z",
          "iopub.status.idle": "2025-03-31T10:03:40.871949Z",
          "shell.execute_reply.started": "2025-03-31T10:03:40.865391Z",
          "shell.execute_reply": "2025-03-31T10:03:40.870628Z"
        }
      },
      "outputs": [],
      "execution_count": null
    },
    {
      "cell_type": "markdown",
      "source": [
        "# Day 1 - Prompting\n",
        "\n",
        "Welcome to the Kaggle 5-day Generative AI course!\n",
        "\n",
        "This notebook will show you how to get started with the Gemini API and walk you through some of the example prompts and techniques that you can also read about in the Prompting whitepaper. You don't need to read the whitepaper to use this notebook, but the papers will give you some theoretical context and background to complement this interactive notebook.\n",
        "\n",
        "\n",
        "## Before you begin\n",
        "\n",
        "In this notebook, you'll start exploring prompting using the Python SDK and AI Studio. For some inspiration, you might enjoy exploring some apps that have been built using the Gemini family of models. Here are a few that we like, and we think you will too.\n",
        "\n",
        "* [TextFX](https://textfx.withgoogle.com/) is a suite of AI-powered tools for rappers, made in collaboration with Lupe Fiasco,\n",
        "* [SQL Talk](https://sql-talk-r5gdynozbq-uc.a.run.app/) shows how you can talk directly to a database using the Gemini API,\n",
        "* [NotebookLM](https://notebooklm.google/) uses Gemini models to build your own personal AI research assistant.\n",
        "\n",
        "\n",
        "## For help\n",
        "\n",
        "**Common issues are covered in the [FAQ and troubleshooting guide](https://www.kaggle.com/code/markishere/day-0-troubleshooting-and-faqs).**\n",
        "\n",
        "## New for Gemini 2.0!\n",
        "\n",
        "This course material was first launched in November 2024. The AI and LLM space is moving incredibly fast, so we have made some updates to use the latest models and capabilities.\n",
        "\n",
        "* These codelabs have been updated to use the Gemini 2.0 family of models.\n",
        "* The Python SDK has been updated from `google-generativeai` to the new, unified [`google-genai`](https://pypi.org/project/google-genai) SDK.\n",
        "  * This new SDK works with both the developer Gemini API as well as Google Cloud Vertex AI, and switching is [as simple as changing some fields](https://pypi.org/project/google-genai/#:~:text=.Client%28%29-,API%20Selection,-By%20default%2C%20the).\n",
        "* New model capabilities have been added to the relevant codelabs, such as \"thinking mode\" in this lab.\n",
        "* Day 1 includes a new [Evaluation codelab](https://www.kaggle.com/code/markishere/day-1-evaluation-and-structured-output)."
      ],
      "metadata": {
        "id": "csNPnkuCobmG"
      }
    },
    {
      "cell_type": "markdown",
      "source": [
        "## Get started with Kaggle notebooks\n",
        "\n",
        "If this is your first time using a Kaggle notebook, welcome! You can read about how to use Kaggle notebooks [in the docs](https://www.kaggle.com/docs/notebooks).\n",
        "\n",
        "First, you will need to phone verify your account at kaggle.com/settings.\n",
        "\n",
        "![](https://storage.googleapis.com/kaggle-media/Images/5dgai_0.png)"
      ],
      "metadata": {
        "id": "f00ea7c99e44"
      }
    },
    {
      "cell_type": "markdown",
      "source": [
        "To run this notebook, as well as the others in this course, you will need to make a copy, or fork, the notebook. Look for the `Copy and Edit` button in the top-right, and **click it** to make an editable, private copy of the notebook. It should look like this one:\n",
        "\n",
        "![Copy and Edit button](https://storage.googleapis.com/kaggle-media/Images/5gdai_sc_1.png)\n",
        "\n",
        "Your copy will now have a ▶️ **Run** button next to each code cell that you can press to execute that cell. These notebooks are expected to be run in order from top-to-bottom, but you are encouraged to add new cells, run your own code and explore. If you get stuck, you can try the `Factory reset` option in the `Run` menu, or head back to the original notebook and make a fresh copy.\n",
        "\n",
        "![Run cell button](https://storage.googleapis.com/kaggle-media/Images/5gdai_sc_2.png)\n",
        "\n",
        "### Problems?\n",
        "\n",
        "If you have any problems, head over to the [Kaggle Discord](https://discord.com/invite/kaggle), find the [`#5dgai-q-and-a` channel](https://discord.com/channels/1101210829807956100/1303438695143178251) and ask for help."
      ],
      "metadata": {
        "id": "v9WjIL9vLOpN"
      }
    },
    {
      "cell_type": "markdown",
      "source": [
        "## Get started with the Gemini API\n",
        "\n",
        "All of the exercises in this notebook will use the [Gemini API](https://ai.google.dev/gemini-api/) by way of the [Python SDK](https://pypi.org/project/google-genai/). Each of these prompts can be accessed directly in [Google AI Studio](https://aistudio.google.com/) too, so if you would rather use a web interface and skip the code for this activity, look for the <img src=\"https://ai.google.dev/site-assets/images/marketing/home/icon-ais.png\" style=\"height: 24px\" height=24/> AI Studio link on each prompt."
      ],
      "metadata": {
        "id": "ExkOXcPxtTb5"
      }
    },
    {
      "cell_type": "markdown",
      "source": [
        "Next, you will need to add your API key to your Kaggle Notebook as a Kaggle User Secret.\n",
        "\n",
        "![](https://storage.googleapis.com/kaggle-media/Images/5dgai_1.png)\n",
        "![](https://storage.googleapis.com/kaggle-media/Images/5dgai_2.png)\n",
        "![](https://storage.googleapis.com/kaggle-media/Images/5dgai_3.png)\n",
        "![](https://storage.googleapis.com/kaggle-media/Images/5dgai_4.png)"
      ],
      "metadata": {
        "id": "YMMLeHGZLOpO"
      }
    },
    {
      "cell_type": "markdown",
      "source": [
        "### Install the SDK"
      ],
      "metadata": {
        "id": "UAjUV3BsvFXQ"
      }
    },
    {
      "cell_type": "code",
      "source": [
        "!pip install -U -q \"google-genai==1.7.0\""
      ],
      "metadata": {
        "id": "NzwzJFU9LqkJ",
        "trusted": true,
        "execution": {
          "iopub.status.busy": "2025-03-31T10:03:40.873953Z",
          "iopub.execute_input": "2025-03-31T10:03:40.87431Z",
          "iopub.status.idle": "2025-03-31T10:03:53.209301Z",
          "shell.execute_reply.started": "2025-03-31T10:03:40.87427Z",
          "shell.execute_reply": "2025-03-31T10:03:53.207859Z"
        },
        "outputId": "434a6a43-5f50-4ef3-c29b-bef70db51a1c",
        "colab": {
          "base_uri": "https://localhost:8080/"
        }
      },
      "outputs": [
        {
          "output_type": "stream",
          "name": "stdout",
          "text": [
            "\u001b[33mWARNING: Skipping jupyterlab as it is not installed.\u001b[0m\u001b[33m\n",
            "\u001b[2K   \u001b[90m━━━━━━━━━━━━━━━━━━━━━━━━━━━━━━━━━━━━━━━━\u001b[0m \u001b[32m144.7/144.7 kB\u001b[0m \u001b[31m3.6 MB/s\u001b[0m eta \u001b[36m0:00:00\u001b[0m\n",
            "\u001b[?25h"
          ]
        }
      ],
      "execution_count": 1
    },
    {
      "cell_type": "markdown",
      "source": [
        "Import the SDK and some helpers for rendering the output."
      ],
      "metadata": {
        "id": "sJWNxDqqLOpO"
      }
    },
    {
      "cell_type": "code",
      "source": [
        "from google.colab import userdata\n",
        "from google import genai\n",
        "from google.genai import types\n",
        "\n",
        "from IPython.display import HTML, Markdown, display"
      ],
      "metadata": {
        "id": "5DwxYIRavMST",
        "trusted": true,
        "execution": {
          "iopub.status.busy": "2025-03-31T10:03:53.211256Z",
          "iopub.execute_input": "2025-03-31T10:03:53.211769Z",
          "iopub.status.idle": "2025-03-31T10:03:54.638132Z",
          "shell.execute_reply.started": "2025-03-31T10:03:53.211723Z",
          "shell.execute_reply": "2025-03-31T10:03:54.636956Z"
        }
      },
      "outputs": [],
      "execution_count": 6
    },
    {
      "cell_type": "markdown",
      "source": [
        "Set up a retry helper. This allows you to \"Run all\" without worrying about per-minute quota."
      ],
      "metadata": {
        "id": "kU6-zKtXLOpP"
      }
    },
    {
      "cell_type": "code",
      "source": [
        "from google.api_core import retry\n",
        "\n",
        "\n",
        "is_retriable = lambda e: (isinstance(e, genai.errors.APIError) and e.code in {429, 503})\n",
        "\n",
        "genai.models.Models.generate_content = retry.Retry(\n",
        "    predicate=is_retriable)(genai.models.Models.generate_content)"
      ],
      "metadata": {
        "trusted": true,
        "execution": {
          "iopub.status.busy": "2025-03-31T10:03:54.640394Z",
          "iopub.execute_input": "2025-03-31T10:03:54.640904Z",
          "iopub.status.idle": "2025-03-31T10:03:54.845515Z",
          "shell.execute_reply.started": "2025-03-31T10:03:54.640869Z",
          "shell.execute_reply": "2025-03-31T10:03:54.844479Z"
        },
        "id": "AYgcFn3XLOpP"
      },
      "outputs": [],
      "execution_count": 3
    },
    {
      "cell_type": "markdown",
      "source": [
        "### Set up your API key\n",
        "\n",
        "To run the following cell, your API key must be stored it in a [Kaggle secret](https://www.kaggle.com/discussions/product-feedback/114053) named `GOOGLE_API_KEY`.\n",
        "\n",
        "If you don't already have an API key, you can grab one from [AI Studio](https://aistudio.google.com/app/apikey). You can find [detailed instructions in the docs](https://ai.google.dev/gemini-api/docs/api-key).\n",
        "\n",
        "To make the key available through Kaggle secrets, choose `Secrets` from the `Add-ons` menu and follow the instructions to add your key or enable it for this notebook."
      ],
      "metadata": {
        "id": "DNEt2BCOvOJ1"
      }
    },
    {
      "cell_type": "code",
      "source": [
        "client = genai.Client(api_key=userdata.get(\"GOOGLE_API_KEY\"))"
      ],
      "metadata": {
        "id": "SHl0bkPCvayd",
        "trusted": true,
        "execution": {
          "iopub.status.busy": "2025-03-31T10:03:54.846853Z",
          "iopub.execute_input": "2025-03-31T10:03:54.84727Z",
          "iopub.status.idle": "2025-03-31T10:03:55.056841Z",
          "shell.execute_reply.started": "2025-03-31T10:03:54.84724Z",
          "shell.execute_reply": "2025-03-31T10:03:55.055686Z"
        }
      },
      "outputs": [],
      "execution_count": 9
    },
    {
      "cell_type": "markdown",
      "source": [
        "If you received an error response along the lines of `No user secrets exist for kernel id ...`, then you need to add your API key via `Add-ons`, `Secrets` **and** enable it.\n",
        "\n",
        "![Screenshot of the checkbox to enable GOOGLE_API_KEY secret](https://storage.googleapis.com/kaggle-media/Images/5gdai_sc_3.png)"
      ],
      "metadata": {
        "id": "4e720472fd86"
      }
    },
    {
      "cell_type": "markdown",
      "source": [
        "### Run your first prompt\n",
        "\n",
        "In this step, you will test that your API key is set up correctly by making a request.\n",
        "\n",
        "The Python SDK uses a [`Client` object](https://googleapis.github.io/python-genai/genai.html#genai.client.Client) to make requests to the API. The client lets you control which back-end to use (between the Gemini API and Vertex AI) and handles authentication (the API key).\n",
        "\n",
        "The `gemini-2.0-flash` model has been selected here.\n",
        "\n",
        "**Note**: If you see a `TransportError` on this step, you may need to **🔁 Factory reset** the notebook one time."
      ],
      "metadata": {
        "id": "H_YXCYIKvyZJ"
      }
    },
    {
      "cell_type": "code",
      "source": [
        "response = client.models.generate_content(\n",
        "    model=\"gemini-2.0-flash\",\n",
        "    contents=\"Explain AI to me like I'm a kid.\")\n",
        "\n",
        "print(response.text)"
      ],
      "metadata": {
        "id": "BV1o0PmcvyJF",
        "trusted": true,
        "execution": {
          "iopub.status.busy": "2025-03-31T10:03:55.05825Z",
          "iopub.execute_input": "2025-03-31T10:03:55.058716Z",
          "iopub.status.idle": "2025-03-31T10:03:57.886958Z",
          "shell.execute_reply.started": "2025-03-31T10:03:55.058668Z",
          "shell.execute_reply": "2025-03-31T10:03:57.885798Z"
        },
        "outputId": "9577ef0d-4f55-41f2-e96f-c1005d3466fc",
        "colab": {
          "base_uri": "https://localhost:8080/"
        }
      },
      "outputs": [
        {
          "output_type": "stream",
          "name": "stdout",
          "text": [
            "Okay, imagine you have a really, REALLY smart puppy named Sparky. But Sparky doesn't know anything when you first get him.\n",
            "\n",
            "**AI is like teaching Sparky new tricks and giving him lots of information so he can learn and get smarter.**\n",
            "\n",
            "Instead of giving Sparky treats, you give a computer program lots and lots of examples. Let's say you want Sparky to learn the difference between a cat and a dog.\n",
            "\n",
            "*   You show Sparky tons of pictures of cats and tons of pictures of dogs.\n",
            "*   You tell Sparky, \"This is a cat! This is a dog! This is a cat! This is a dog!\" over and over again.\n",
            "\n",
            "After seeing so many pictures, Sparky (or the computer program) starts to notice patterns.  Maybe cats are smaller, have pointy ears, and meow. Maybe dogs are bigger, have floppy ears, and bark.\n",
            "\n",
            "Eventually, when you show Sparky a new picture he's never seen before, he can say, \"I think that's a cat!\" (or a dog!)\n",
            "\n",
            "**So, AI is like:**\n",
            "\n",
            "*   **Teaching a computer to learn from examples.**\n",
            "*   **Helping computers find patterns and make predictions.**\n",
            "*   **Making computers smart enough to do things that usually only people can do.**\n",
            "\n",
            "AI is used for lots of things, like:\n",
            "\n",
            "*   Helping you find funny videos on YouTube.\n",
            "*   Playing games with you that get harder as you get better.\n",
            "*   Helping doctors find problems in your body.\n",
            "*   Even driving cars!\n",
            "\n",
            "So, AI is like a really smart student who learns from lots of examples and gets better and better at solving problems!  But instead of being a person, it's a computer program.  Cool, right?\n",
            "\n"
          ]
        }
      ],
      "execution_count": 11
    },
    {
      "cell_type": "markdown",
      "source": [
        "The response often comes back in markdown format, which you can render directly in this notebook."
      ],
      "metadata": {
        "id": "f60ed9d8ae41"
      }
    },
    {
      "cell_type": "code",
      "source": [
        "Markdown(response.text)"
      ],
      "metadata": {
        "id": "c933e5e460a5",
        "trusted": true,
        "execution": {
          "iopub.status.busy": "2025-03-31T10:03:57.888544Z",
          "iopub.execute_input": "2025-03-31T10:03:57.888876Z",
          "iopub.status.idle": "2025-03-31T10:03:57.897544Z",
          "shell.execute_reply.started": "2025-03-31T10:03:57.888845Z",
          "shell.execute_reply": "2025-03-31T10:03:57.896275Z"
        },
        "outputId": "0dbc806a-7543-4eba-c4a1-dc058531bc8f",
        "colab": {
          "base_uri": "https://localhost:8080/",
          "height": 419
        }
      },
      "outputs": [
        {
          "output_type": "execute_result",
          "data": {
            "text/plain": [
              "<IPython.core.display.Markdown object>"
            ],
            "text/markdown": "Okay, imagine you have a really, REALLY smart puppy named Sparky. But Sparky doesn't know anything when you first get him.\n\n**AI is like teaching Sparky new tricks and giving him lots of information so he can learn and get smarter.**\n\nInstead of giving Sparky treats, you give a computer program lots and lots of examples. Let's say you want Sparky to learn the difference between a cat and a dog.\n\n*   You show Sparky tons of pictures of cats and tons of pictures of dogs.\n*   You tell Sparky, \"This is a cat! This is a dog! This is a cat! This is a dog!\" over and over again.\n\nAfter seeing so many pictures, Sparky (or the computer program) starts to notice patterns.  Maybe cats are smaller, have pointy ears, and meow. Maybe dogs are bigger, have floppy ears, and bark.\n\nEventually, when you show Sparky a new picture he's never seen before, he can say, \"I think that's a cat!\" (or a dog!)\n\n**So, AI is like:**\n\n*   **Teaching a computer to learn from examples.**\n*   **Helping computers find patterns and make predictions.**\n*   **Making computers smart enough to do things that usually only people can do.**\n\nAI is used for lots of things, like:\n\n*   Helping you find funny videos on YouTube.\n*   Playing games with you that get harder as you get better.\n*   Helping doctors find problems in your body.\n*   Even driving cars!\n\nSo, AI is like a really smart student who learns from lots of examples and gets better and better at solving problems!  But instead of being a person, it's a computer program.  Cool, right?\n"
          },
          "metadata": {},
          "execution_count": 12
        }
      ],
      "execution_count": 12
    },
    {
      "cell_type": "markdown",
      "source": [
        "### Start a chat\n",
        "\n",
        "The previous example uses a single-turn, text-in/text-out structure, but you can also set up a multi-turn chat structure too."
      ],
      "metadata": {
        "id": "byx0pT9ZMW2Q"
      }
    },
    {
      "cell_type": "code",
      "source": [
        "chat = client.chats.create(model='gemini-2.0-flash', history=[])\n",
        "response = chat.send_message('Hello! My name is Manoj.')\n",
        "print(response.text)"
      ],
      "metadata": {
        "id": "lV_S5ZL5MidD",
        "trusted": true,
        "execution": {
          "iopub.status.busy": "2025-03-31T10:03:57.898888Z",
          "iopub.execute_input": "2025-03-31T10:03:57.899193Z",
          "iopub.status.idle": "2025-03-31T10:03:58.463778Z",
          "shell.execute_reply.started": "2025-03-31T10:03:57.899163Z",
          "shell.execute_reply": "2025-03-31T10:03:58.462774Z"
        },
        "outputId": "875df7f3-d415-4ffb-fad2-6f133652e0db",
        "colab": {
          "base_uri": "https://localhost:8080/"
        }
      },
      "outputs": [
        {
          "output_type": "stream",
          "name": "stdout",
          "text": [
            "Hello Manoj! It's nice to meet you. How can I help you today?\n",
            "\n"
          ]
        }
      ],
      "execution_count": 15
    },
    {
      "cell_type": "code",
      "source": [
        "response = chat.send_message('Can you tell me something interesting about dinosaurs?')\n",
        "Markdown(response.text)"
      ],
      "metadata": {
        "id": "7b0372c3c64a",
        "trusted": true,
        "execution": {
          "iopub.status.busy": "2025-03-31T10:03:58.465343Z",
          "iopub.execute_input": "2025-03-31T10:03:58.465802Z",
          "iopub.status.idle": "2025-03-31T10:04:00.174979Z",
          "shell.execute_reply.started": "2025-03-31T10:03:58.465753Z",
          "shell.execute_reply": "2025-03-31T10:04:00.173771Z"
        },
        "outputId": "25c40396-e921-4ce3-8bd4-24a905bfc8e7",
        "colab": {
          "base_uri": "https://localhost:8080/",
          "height": 128
        }
      },
      "outputs": [
        {
          "output_type": "execute_result",
          "data": {
            "text/plain": [
              "<IPython.core.display.Markdown object>"
            ],
            "text/markdown": "Alright, here's another interesting fact for you:\n\n**The asteroid that likely led to the extinction of the non-avian dinosaurs created a gigantic tsunami with waves estimated to be hundreds of feet high!**\n\nThis massive tsunami would have traveled across the Gulf of Mexico and far beyond, causing widespread devastation to coastlines and marine life. It's just one of the many catastrophic effects of the Chicxulub impact that contributed to the mass extinction event at the end of the Cretaceous period. Imagine the scale of that wave!\n"
          },
          "metadata": {},
          "execution_count": 18
        }
      ],
      "execution_count": 18
    },
    {
      "cell_type": "markdown",
      "source": [
        "While you have the `chat` object alive, the conversation state\n",
        "persists. Confirm that by asking if it knows the user's name."
      ],
      "metadata": {
        "id": "ELqjeOHfLOpQ"
      }
    },
    {
      "cell_type": "code",
      "source": [
        "response = chat.send_message('Do you remember what my name is?')\n",
        "print(response.text)"
      ],
      "metadata": {
        "id": "d3f9591392a7",
        "trusted": true,
        "execution": {
          "iopub.status.busy": "2025-03-31T10:04:00.178357Z",
          "iopub.execute_input": "2025-03-31T10:04:00.178763Z",
          "iopub.status.idle": "2025-03-31T10:04:00.597558Z",
          "shell.execute_reply.started": "2025-03-31T10:04:00.178728Z",
          "shell.execute_reply": "2025-03-31T10:04:00.596167Z"
        },
        "outputId": "3bb4930a-f72e-48ec-cc2c-c8b9276fb0bc",
        "colab": {
          "base_uri": "https://localhost:8080/"
        }
      },
      "outputs": [
        {
          "output_type": "stream",
          "name": "stdout",
          "text": [
            "Yes, your name is Manoj.\n",
            "\n"
          ]
        }
      ],
      "execution_count": 19
    },
    {
      "cell_type": "markdown",
      "source": [
        "### Choose a model\n",
        "\n",
        "The Gemini API provides access to a number of models from the Gemini model family. Read about the available models and their capabilities on the [model overview page](https://ai.google.dev/gemini-api/docs/models/gemini).\n",
        "\n",
        "In this step you'll use the API to list all of the available models."
      ],
      "metadata": {
        "id": "2KAjpr1200sW"
      }
    },
    {
      "cell_type": "code",
      "source": [
        "for model in client.models.list():\n",
        "  print(model.name)"
      ],
      "metadata": {
        "id": "uUUZa2uq2jDm",
        "trusted": true,
        "execution": {
          "iopub.status.busy": "2025-03-31T10:04:00.599246Z",
          "iopub.execute_input": "2025-03-31T10:04:00.599723Z",
          "iopub.status.idle": "2025-03-31T10:04:00.631963Z",
          "shell.execute_reply.started": "2025-03-31T10:04:00.599654Z",
          "shell.execute_reply": "2025-03-31T10:04:00.630701Z"
        },
        "outputId": "6655fd85-177c-453e-c3d7-ad2fe590da6d",
        "colab": {
          "base_uri": "https://localhost:8080/"
        }
      },
      "outputs": [
        {
          "output_type": "stream",
          "name": "stdout",
          "text": [
            "models/chat-bison-001\n",
            "models/text-bison-001\n",
            "models/embedding-gecko-001\n",
            "models/gemini-1.0-pro-vision-latest\n",
            "models/gemini-pro-vision\n",
            "models/gemini-1.5-pro-latest\n",
            "models/gemini-1.5-pro-001\n",
            "models/gemini-1.5-pro-002\n",
            "models/gemini-1.5-pro\n",
            "models/gemini-1.5-flash-latest\n",
            "models/gemini-1.5-flash-001\n",
            "models/gemini-1.5-flash-001-tuning\n",
            "models/gemini-1.5-flash\n",
            "models/gemini-1.5-flash-002\n",
            "models/gemini-1.5-flash-8b\n",
            "models/gemini-1.5-flash-8b-001\n",
            "models/gemini-1.5-flash-8b-latest\n",
            "models/gemini-1.5-flash-8b-exp-0827\n",
            "models/gemini-1.5-flash-8b-exp-0924\n",
            "models/gemini-2.5-pro-exp-03-25\n",
            "models/gemini-2.0-flash-exp\n",
            "models/gemini-2.0-flash\n",
            "models/gemini-2.0-flash-001\n",
            "models/gemini-2.0-flash-exp-image-generation\n",
            "models/gemini-2.0-flash-lite-001\n",
            "models/gemini-2.0-flash-lite\n",
            "models/gemini-2.0-flash-lite-preview-02-05\n",
            "models/gemini-2.0-flash-lite-preview\n",
            "models/gemini-2.0-pro-exp\n",
            "models/gemini-2.0-pro-exp-02-05\n",
            "models/gemini-exp-1206\n",
            "models/gemini-2.0-flash-thinking-exp-01-21\n",
            "models/gemini-2.0-flash-thinking-exp\n",
            "models/gemini-2.0-flash-thinking-exp-1219\n",
            "models/learnlm-1.5-pro-experimental\n",
            "models/gemma-3-4b-it\n",
            "models/gemma-3-12b-it\n",
            "models/gemma-3-27b-it\n",
            "models/embedding-001\n",
            "models/text-embedding-004\n",
            "models/gemini-embedding-exp-03-07\n",
            "models/gemini-embedding-exp\n",
            "models/aqa\n",
            "models/imagen-3.0-generate-002\n"
          ]
        }
      ],
      "execution_count": 20
    },
    {
      "cell_type": "markdown",
      "source": [
        "The [`models.list`](https://ai.google.dev/api/models#method:-models.list) response also returns additional information about the model's capabilities, like the token limits and supported parameters."
      ],
      "metadata": {
        "id": "rN49kSI54R1v"
      }
    },
    {
      "cell_type": "code",
      "source": [
        "from pprint import pprint\n",
        "\n",
        "for model in client.models.list():\n",
        "  if model.name == 'models/gemini-2.0-flash':\n",
        "    pprint(model.to_json_dict())\n",
        "    break"
      ],
      "metadata": {
        "id": "k7JJ1K6j4Rl8",
        "trusted": true,
        "execution": {
          "iopub.status.busy": "2025-03-31T10:04:00.633411Z",
          "iopub.execute_input": "2025-03-31T10:04:00.633866Z",
          "iopub.status.idle": "2025-03-31T10:04:00.665926Z",
          "shell.execute_reply.started": "2025-03-31T10:04:00.633819Z",
          "shell.execute_reply": "2025-03-31T10:04:00.664681Z"
        },
        "outputId": "75987423-b2bd-465d-967f-6ce8a4767d20",
        "colab": {
          "base_uri": "https://localhost:8080/"
        }
      },
      "outputs": [
        {
          "output_type": "stream",
          "name": "stdout",
          "text": [
            "{'description': 'Gemini 2.0 Flash',\n",
            " 'display_name': 'Gemini 2.0 Flash',\n",
            " 'input_token_limit': 1048576,\n",
            " 'name': 'models/gemini-2.0-flash',\n",
            " 'output_token_limit': 8192,\n",
            " 'supported_actions': ['generateContent', 'countTokens'],\n",
            " 'tuned_model_info': {},\n",
            " 'version': '2.0'}\n"
          ]
        }
      ],
      "execution_count": 21
    },
    {
      "cell_type": "markdown",
      "source": [
        "## Explore generation parameters\n",
        "\n"
      ],
      "metadata": {
        "id": "5rU_UBlZdooM"
      }
    },
    {
      "cell_type": "markdown",
      "source": [
        "### Output length\n",
        "\n",
        "When generating text with an LLM, the output length affects cost and performance. Generating more tokens increases computation, leading to higher energy consumption, latency, and cost.\n",
        "\n",
        "To stop the model from generating tokens past a limit, you can specify the `max_output_tokens` parameter when using the Gemini API. Specifying this parameter does not influence the generation of the output tokens, so the output will not become more stylistically or textually succinct, but it will stop generating tokens once the specified length is reached. Prompt engineering may be required to generate a more complete output for your given limit."
      ],
      "metadata": {
        "id": "G7NfEizeipbW"
      }
    },
    {
      "cell_type": "code",
      "source": [
        "from google.genai import types\n",
        "\n",
        "short_config = types.GenerateContentConfig(max_output_tokens=200)\n",
        "\n",
        "response = client.models.generate_content(\n",
        "    model='gemini-2.0-flash',\n",
        "    config=short_config,\n",
        "    contents='Write a 1000 word essay on the importance of olives in modern society.')\n",
        "\n",
        "print(response.text)"
      ],
      "metadata": {
        "id": "qVf23JsIi9ma",
        "trusted": true,
        "execution": {
          "iopub.status.busy": "2025-03-31T10:04:00.667458Z",
          "iopub.execute_input": "2025-03-31T10:04:00.667882Z",
          "iopub.status.idle": "2025-03-31T10:04:02.147176Z",
          "shell.execute_reply.started": "2025-03-31T10:04:00.667834Z",
          "shell.execute_reply": "2025-03-31T10:04:02.145805Z"
        },
        "outputId": "1c3469e2-671c-4162-ab94-b1746a0c8ffc",
        "colab": {
          "base_uri": "https://localhost:8080/"
        }
      },
      "outputs": [
        {
          "output_type": "stream",
          "name": "stdout",
          "text": [
            "## The Enduring Importance of Olives: From Ancient Symbol to Modern Staple\n",
            "\n",
            "The olive, that small, unassuming fruit of the *Olea europaea* tree, holds a significance far exceeding its size. For millennia, it has been a cornerstone of civilizations, a symbol of peace, prosperity, and wisdom. Today, in modern society, the olive continues to exert a powerful influence, woven into the fabric of our culinary traditions, health practices, and economic landscapes. Its importance lies not just in its delicious flavour and versatile uses, but also in its historical legacy, nutritional value, and sustainable production potential.\n",
            "\n",
            "Historically, the olive tree is intrinsically linked to the Mediterranean world. Originating in the Levant region, it spread across the Mediterranean basin, becoming a fundamental element of the region's culture and economy. Ancient Greeks and Romans revered the olive, associating it with goddesses like Athena and using it to anoint victors and royalty. Olive oil, extracted from the fruit, was not only\n"
          ]
        }
      ],
      "execution_count": 22
    },
    {
      "cell_type": "code",
      "source": [
        "response = client.models.generate_content(\n",
        "    model='gemini-2.0-flash',\n",
        "    config=short_config,\n",
        "    contents='Write a short poem on the importance of olives in modern society.')\n",
        "\n",
        "print(response.text)"
      ],
      "metadata": {
        "id": "W-3kR2F5kdMR",
        "trusted": true,
        "execution": {
          "iopub.status.busy": "2025-03-31T10:04:02.148834Z",
          "iopub.execute_input": "2025-03-31T10:04:02.149272Z",
          "iopub.status.idle": "2025-03-31T10:04:02.932445Z",
          "shell.execute_reply.started": "2025-03-31T10:04:02.149225Z",
          "shell.execute_reply": "2025-03-31T10:04:02.931442Z"
        },
        "outputId": "2e2d04eb-34a9-40c9-d479-d255ddabfe10",
        "colab": {
          "base_uri": "https://localhost:8080/"
        }
      },
      "outputs": [
        {
          "output_type": "stream",
          "name": "stdout",
          "text": [
            "From groves of green to tables spread,\n",
            "The olive's journey, wisely led.\n",
            "A taste of sunshine, pressed with care,\n",
            "In oils and tapenades to share.\n",
            "\n",
            "On pizzas, salads, finely sliced,\n",
            "A savory treat, precisely priced.\n",
            "A symbol of peace, a healthy bite,\n",
            "The humble olive, shining bright.\n",
            "\n",
            "So raise a glass, of oil so pure,\n",
            "The olive's worth will long endure.\n",
            "A modern staple, tried and true,\n",
            "A gift of nature, old and new.\n",
            "\n"
          ]
        }
      ],
      "execution_count": 23
    },
    {
      "cell_type": "markdown",
      "source": [
        "Explore with your own prompts. Try a prompt with a restrictive output limit and then adjust the prompt to work within that limit."
      ],
      "metadata": {
        "id": "3ZhDSLB6lqqB"
      }
    },
    {
      "cell_type": "markdown",
      "source": [
        "### Temperature\n",
        "\n",
        "Temperature controls the degree of randomness in token selection. Higher temperatures result in a higher number of candidate tokens from which the next output token is selected, and can produce more diverse results, while lower temperatures have the opposite effect, such that a temperature of 0 results in greedy decoding, selecting the most probable token at each step.\n",
        "\n",
        "Temperature doesn't provide any guarantees of randomness, but it can be used to \"nudge\" the output somewhat."
      ],
      "metadata": {
        "id": "alx-WaAvir_9"
      }
    },
    {
      "cell_type": "code",
      "source": [
        "high_temp_config = types.GenerateContentConfig(temperature=2.0)\n",
        "\n",
        "\n",
        "for _ in range(5):\n",
        "  response = client.models.generate_content(\n",
        "      model='gemini-2.0-flash',\n",
        "      config=high_temp_config,\n",
        "      contents='Pick a random colour... (respond in a single word)')\n",
        "\n",
        "  if response.text:\n",
        "    print(response.text, '-' * 25)"
      ],
      "metadata": {
        "id": "SHraGMzqnZqt",
        "trusted": true,
        "execution": {
          "iopub.status.busy": "2025-03-31T10:04:02.933814Z",
          "iopub.execute_input": "2025-03-31T10:04:02.934124Z",
          "iopub.status.idle": "2025-03-31T10:04:04.178735Z",
          "shell.execute_reply.started": "2025-03-31T10:04:02.934091Z",
          "shell.execute_reply": "2025-03-31T10:04:04.17764Z"
        },
        "outputId": "fa7d55a3-2005-4e28-da8e-c04f2949ec82",
        "colab": {
          "base_uri": "https://localhost:8080/"
        }
      },
      "outputs": [
        {
          "output_type": "stream",
          "name": "stdout",
          "text": [
            "Turquoise\n",
            " -------------------------\n",
            "Turquoise\n",
            " -------------------------\n",
            "Magenta.\n",
            " -------------------------\n",
            "Orange\n",
            " -------------------------\n",
            "Turquoise\n",
            " -------------------------\n"
          ]
        }
      ],
      "execution_count": 24
    },
    {
      "cell_type": "markdown",
      "source": [
        "Now try the same prompt with temperature set to zero. Note that the output is not completely deterministic, as other parameters affect token selection, but the results will tend to be more stable."
      ],
      "metadata": {
        "id": "z3J4pCTuof7e"
      }
    },
    {
      "cell_type": "code",
      "source": [
        "low_temp_config = types.GenerateContentConfig(temperature=0.0)\n",
        "\n",
        "for _ in range(5):\n",
        "  response = client.models.generate_content(\n",
        "      model='gemini-2.0-flash',\n",
        "      config=low_temp_config,\n",
        "      contents='Pick a random colour... (respond in a single word)')\n",
        "\n",
        "  if response.text:\n",
        "    print(response.text, '-' * 25)"
      ],
      "metadata": {
        "id": "clymkWv-PfUZ",
        "trusted": true,
        "execution": {
          "iopub.status.busy": "2025-03-31T10:04:04.180253Z",
          "iopub.execute_input": "2025-03-31T10:04:04.181194Z",
          "iopub.status.idle": "2025-03-31T10:04:05.38966Z",
          "shell.execute_reply.started": "2025-03-31T10:04:04.181138Z",
          "shell.execute_reply": "2025-03-31T10:04:05.388259Z"
        },
        "outputId": "4764694f-52b3-417e-dbf0-b88efcf129d4",
        "colab": {
          "base_uri": "https://localhost:8080/"
        }
      },
      "outputs": [
        {
          "output_type": "stream",
          "name": "stdout",
          "text": [
            "Azure\n",
            " -------------------------\n",
            "Azure\n",
            " -------------------------\n",
            "Azure\n",
            " -------------------------\n",
            "Azure\n",
            " -------------------------\n",
            "Azure\n",
            " -------------------------\n"
          ]
        }
      ],
      "execution_count": 25
    },
    {
      "cell_type": "markdown",
      "source": [
        "### Top-P\n",
        "\n",
        "Like temperature, the top-P parameter is also used to control the diversity of the model's output.\n",
        "\n",
        "Top-P defines the probability threshold that, once cumulatively exceeded, tokens stop being selected as candidates. A top-P of 0 is typically equivalent to greedy decoding, and a top-P of 1 typically selects every token in the model's vocabulary.\n",
        "\n",
        "You may also see top-K referenced in LLM literature. Top-K is not configurable in the Gemini 2.0 series of models, but can be changed in older models. Top-K is a positive integer that defines the number of most probable tokens from which to select the output token. A top-K of 1 selects a single token, performing greedy decoding.\n",
        "\n",
        "\n",
        "Run this example a number of times, change the settings and observe the change in output."
      ],
      "metadata": {
        "id": "St5nt3vzitsZ"
      }
    },
    {
      "cell_type": "code",
      "source": [
        "model_config = types.GenerateContentConfig(\n",
        "    # These are the default values for gemini-2.0-flash.\n",
        "    temperature=1.0,\n",
        "    top_p=0.95,\n",
        ")\n",
        "\n",
        "story_prompt = \"You are a creative writer. Write a short story about a cat who goes on an adventure.\"\n",
        "response = client.models.generate_content(\n",
        "    model='gemini-2.0-flash',\n",
        "    config=model_config,\n",
        "    contents=story_prompt)\n",
        "\n",
        "print(response.text)"
      ],
      "metadata": {
        "id": "lPlzpEavUV8F",
        "trusted": true,
        "execution": {
          "iopub.status.busy": "2025-03-31T10:04:05.39091Z",
          "iopub.execute_input": "2025-03-31T10:04:05.391231Z",
          "iopub.status.idle": "2025-03-31T10:04:10.684509Z",
          "shell.execute_reply.started": "2025-03-31T10:04:05.391199Z",
          "shell.execute_reply": "2025-03-31T10:04:10.683377Z"
        },
        "outputId": "2b8319ac-08a6-4054-f80f-fac527af08d8",
        "colab": {
          "base_uri": "https://localhost:8080/"
        }
      },
      "outputs": [
        {
          "output_type": "stream",
          "name": "stdout",
          "text": [
            "Clementine, a calico of discerning tastes and a penchant for sunbeams, considered her life utterly predictable. Breakfast at precisely 7 AM, a rigorous grooming session at 7:15, followed by a nap strategically positioned for maximum solar absorption. But today, predictability had a pebble in its shoe, or rather, a flapping, rustling wing.\n",
            "\n",
            "A blue jay, bolder than most, had perched on the window sill, taunting her with chirps and daring her to break the invisible barrier of glass. Normally, Clementine would have yawned and dismissed the feathered irritant. But something about the jay's defiant squawk ignited a spark of rebellion within her feline breast. She was, after all, Clementine the Courageous, Clementine the Clever, even if her adventures rarely extended beyond the living room rug.\n",
            "\n",
            "The back door was ajar, a sliver of forbidden freedom beckoning. With a deep breath and a flick of her tail, Clementine slipped out.\n",
            "\n",
            "The world exploded with scent. The damp earth smelled of secrets, the roses of sugared nectar, and the neighbor's garbage cans, a symphony of unidentifiable, potentially edible, delights. Clementine navigated the overgrown lawn, her paws sinking into the soft grass. It was exhilarating, terrifying, and utterly… intoxicating.\n",
            "\n",
            "Following the scent of something tantalizingly fishy, she found herself at the edge of the woods. Fear prickled at her whiskers. The woods were dark, rustling with unknown creatures. But the fishy scent was too strong to resist. Clementine, channeling her inner explorer, plunged into the green abyss.\n",
            "\n",
            "The forest floor was a kaleidoscope of shadows and dappled sunlight. She stalked through ferns taller than herself, dodging gnarly roots and marveling at the strange, luminous fungi that glowed in the dim light. She startled a chipmunk, who scolded her from a tree branch, and sniffed at a discarded bird feather, feeling a pang of envy for the jay's aerial freedom.\n",
            "\n",
            "Then, she saw it. A small pond, shimmering like a forgotten jewel. And beside it, a little boy, fishing. The boy wasn't the source of the fishy scent, though. Beside him, on the grass, lay a string of glistening trout, their silver scales catching the light.\n",
            "\n",
            "Clementine, emboldened by her adventure, approached cautiously. The boy, engrossed in his fishing, didn't notice her at first. But then, she let out a soft, persuasive meow.\n",
            "\n",
            "He turned, his eyes widening. \"A kitty! You're lost, little one.\"\n",
            "\n",
            "He offered her a tentative pat, which Clementine accepted with a purr. Then, he did something extraordinary. He carefully selected the smallest trout from his string and, with a wink, laid it on the ground for her.\n",
            "\n",
            "Clementine, overwhelmed with gratitude, feasted. This was better than any kibble, any sunbeam, any predictable morning routine. This was an adventure!\n",
            "\n",
            "When she'd finished, she rubbed against the boy's leg, thanking him with purrs and head-butts. He smiled, then pointed in the direction of the houses. \"Go home now, kitty. Your family is probably worried.\"\n",
            "\n",
            "He was right. It was getting late, and a sliver of guilt nudged her adventurous spirit. She gave the boy one last look, then, with a flick of her tail, turned and padded back into the woods, the scent of adventure lingering on her whiskers.\n",
            "\n",
            "Back in her own yard, she stretched, savoring the memory of her escapade. The back door was still ajar. She slipped inside, shedding a little dirt and a whole lot of ordinary. Breakfast tomorrow might still be at 7 AM, but Clementine knew one thing: her life would never be quite so predictable again. The woods, the fish, the kind boy - they were all proof that adventure, even for a calico, could be just a door ajar away.\n",
            "\n"
          ]
        }
      ],
      "execution_count": 26
    },
    {
      "cell_type": "markdown",
      "source": [
        "## Prompting\n",
        "\n",
        "This section contains some prompts from the chapter for you to try out directly in the API. Try changing the text here to see how each prompt performs with different instructions, more examples, or any other changes you can think of."
      ],
      "metadata": {
        "id": "rMrYs1koY6DX"
      }
    },
    {
      "cell_type": "markdown",
      "source": [
        "### Zero-shot\n",
        "\n",
        "Zero-shot prompts are prompts that describe the request for the model directly.\n",
        "\n",
        "<table align=left>\n",
        "  <td>\n",
        "    <a target=\"_blank\" href=\"https://aistudio.google.com/prompts/1gzKKgDHwkAvexG5Up0LMtl1-6jKMKe4g\"><img src=\"https://ai.google.dev/site-assets/images/marketing/home/icon-ais.png\" style=\"height: 24px\" height=24/> Open in AI Studio</a>\n",
        "  </td>\n",
        "</table>"
      ],
      "metadata": {
        "id": "hhj_tQidZJP7"
      }
    },
    {
      "cell_type": "code",
      "source": [
        "model_config = types.GenerateContentConfig(\n",
        "    temperature=0.1,\n",
        "    top_p=1,\n",
        "    max_output_tokens=5,\n",
        ")\n",
        "\n",
        "zero_shot_prompt = \"\"\"Classify movie reviews as POSITIVE, NEUTRAL or NEGATIVE.\n",
        "Review: \"Her\" is a disturbing study revealing the direction\n",
        "humanity is headed if AI is allowed to keep evolving,\n",
        "unchecked. I wish there were more movies like this masterpiece.\n",
        "Sentiment: \"\"\"\n",
        "\n",
        "response = client.models.generate_content(\n",
        "    model='gemini-2.0-flash',\n",
        "    config=model_config,\n",
        "    contents=zero_shot_prompt)\n",
        "\n",
        "print(response.text)"
      ],
      "metadata": {
        "id": "1_t-cwnDZzbH",
        "trusted": true,
        "execution": {
          "iopub.status.busy": "2025-03-31T10:04:10.685842Z",
          "iopub.execute_input": "2025-03-31T10:04:10.686115Z",
          "iopub.status.idle": "2025-03-31T10:05:18.675235Z",
          "shell.execute_reply.started": "2025-03-31T10:04:10.686088Z",
          "shell.execute_reply": "2025-03-31T10:05:18.674173Z"
        },
        "outputId": "3aee80c0-4547-40b1-bf6f-4c4be66c44a7",
        "colab": {
          "base_uri": "https://localhost:8080/"
        }
      },
      "outputs": [
        {
          "output_type": "stream",
          "name": "stdout",
          "text": [
            "POSITIVE\n",
            "\n"
          ]
        }
      ],
      "execution_count": 27
    },
    {
      "cell_type": "markdown",
      "source": [
        "#### Enum mode\n",
        "\n",
        "The models are trained to generate text, and while the Gemini 2.0 models are great at following instructions, other models can sometimes produce more text than you may wish for. In the preceding example, the model will output the label, but sometimes it can include a preceding \"Sentiment\" label, and without an output token limit, it may also add explanatory text afterwards. See [this prompt in AI Studio](https://aistudio.google.com/prompts/1gzKKgDHwkAvexG5Up0LMtl1-6jKMKe4g) for an example.\n",
        "\n",
        "The Gemini API has an [Enum mode](https://github.com/google-gemini/cookbook/blob/main/quickstarts/Enum.ipynb) feature that allows you to constrain the output to a fixed set of values."
      ],
      "metadata": {
        "id": "3b5568bdeb11"
      }
    },
    {
      "cell_type": "code",
      "source": [
        "import enum\n",
        "\n",
        "class Sentiment(enum.Enum):\n",
        "    POSITIVE = \"positive\"\n",
        "    NEUTRAL = \"neutral\"\n",
        "    NEGATIVE = \"negative\"\n",
        "\n",
        "\n",
        "response = client.models.generate_content(\n",
        "    model='gemini-2.0-flash',\n",
        "    config=types.GenerateContentConfig(\n",
        "        response_mime_type=\"text/x.enum\",\n",
        "        response_schema=Sentiment\n",
        "    ),\n",
        "    contents=zero_shot_prompt)\n",
        "\n",
        "print(response.text)"
      ],
      "metadata": {
        "id": "ad118a56c598",
        "trusted": true,
        "execution": {
          "iopub.status.busy": "2025-03-31T10:05:18.67686Z",
          "iopub.execute_input": "2025-03-31T10:05:18.677294Z",
          "iopub.status.idle": "2025-03-31T10:05:19.165251Z",
          "shell.execute_reply.started": "2025-03-31T10:05:18.677246Z",
          "shell.execute_reply": "2025-03-31T10:05:19.164026Z"
        },
        "outputId": "82b2c742-0503-438e-ac34-da4c514ed26f",
        "colab": {
          "base_uri": "https://localhost:8080/"
        }
      },
      "outputs": [
        {
          "output_type": "stream",
          "name": "stdout",
          "text": [
            "positive\n"
          ]
        }
      ],
      "execution_count": 28
    },
    {
      "cell_type": "markdown",
      "source": [
        "When using constrained output like an enum, the Python SDK will attempt to convert the model's text response into a Python object automatically. It's stored in the `response.parsed` field."
      ],
      "metadata": {
        "id": "wT98MiEmLOpV"
      }
    },
    {
      "cell_type": "code",
      "source": [
        "enum_response = response.parsed\n",
        "print(enum_response)\n",
        "print(type(enum_response))"
      ],
      "metadata": {
        "trusted": true,
        "execution": {
          "iopub.status.busy": "2025-03-31T10:05:19.166944Z",
          "iopub.execute_input": "2025-03-31T10:05:19.167261Z",
          "iopub.status.idle": "2025-03-31T10:05:19.173273Z",
          "shell.execute_reply.started": "2025-03-31T10:05:19.167229Z",
          "shell.execute_reply": "2025-03-31T10:05:19.171617Z"
        },
        "id": "0LphIuG1LOpV",
        "outputId": "ff2e0e0e-0896-4a59-9657-848f9d9c40ad",
        "colab": {
          "base_uri": "https://localhost:8080/"
        }
      },
      "outputs": [
        {
          "output_type": "stream",
          "name": "stdout",
          "text": [
            "Sentiment.POSITIVE\n",
            "<enum 'Sentiment'>\n"
          ]
        }
      ],
      "execution_count": 29
    },
    {
      "cell_type": "markdown",
      "source": [
        "### One-shot and few-shot\n",
        "\n",
        "Providing an example of the expected response is known as a \"one-shot\" prompt. When you provide multiple examples, it is a \"few-shot\" prompt.\n",
        "\n",
        "<table align=left>\n",
        "  <td>\n",
        "    <a target=\"_blank\" href=\"https://aistudio.google.com/prompts/1jjWkjUSoMXmLvMJ7IzADr_GxHPJVV2bg\"><img src=\"https://ai.google.dev/site-assets/images/marketing/home/icon-ais.png\" style=\"height: 24px\" height=24/> Open in AI Studio</a>\n",
        "  </td>\n",
        "</table>\n"
      ],
      "metadata": {
        "id": "0udiSwNbv45W"
      }
    },
    {
      "cell_type": "code",
      "source": [
        "few_shot_prompt = \"\"\"Parse a customer's pizza order into valid JSON:\n",
        "\n",
        "EXAMPLE:\n",
        "I want a small pizza with cheese, tomato sauce, and pepperoni.\n",
        "JSON Response:\n",
        "```\n",
        "{\n",
        "\"size\": \"small\",\n",
        "\"type\": \"normal\",\n",
        "\"ingredients\": [\"cheese\", \"tomato sauce\", \"pepperoni\"]\n",
        "}\n",
        "```\n",
        "\n",
        "EXAMPLE:\n",
        "Can I get a large pizza with tomato sauce, basil and mozzarella\n",
        "JSON Response:\n",
        "```\n",
        "{\n",
        "\"size\": \"large\",\n",
        "\"type\": \"normal\",\n",
        "\"ingredients\": [\"tomato sauce\", \"basil\", \"mozzarella\"]\n",
        "}\n",
        "```\n",
        "\n",
        "ORDER:\n",
        "\"\"\"\n",
        "\n",
        "customer_order = \"Give me a large with cheese & pineapple\"\n",
        "\n",
        "response = client.models.generate_content(\n",
        "    model='gemini-2.0-flash',\n",
        "    config=types.GenerateContentConfig(\n",
        "        temperature=0.1,\n",
        "        top_p=1,\n",
        "        max_output_tokens=250,\n",
        "    ),\n",
        "    contents=[few_shot_prompt, customer_order])\n",
        "\n",
        "print(response.text)"
      ],
      "metadata": {
        "id": "hd4mVUukwOKZ",
        "trusted": true,
        "execution": {
          "iopub.status.busy": "2025-03-31T10:05:19.175026Z",
          "iopub.execute_input": "2025-03-31T10:05:19.17557Z",
          "iopub.status.idle": "2025-03-31T10:05:19.707971Z",
          "shell.execute_reply.started": "2025-03-31T10:05:19.175463Z",
          "shell.execute_reply": "2025-03-31T10:05:19.706895Z"
        },
        "outputId": "a24503f8-f97e-4b2a-fd15-cfe6b58087b3",
        "colab": {
          "base_uri": "https://localhost:8080/"
        }
      },
      "outputs": [
        {
          "output_type": "stream",
          "name": "stdout",
          "text": [
            "```json\n",
            "{\n",
            "\"size\": \"large\",\n",
            "\"type\": \"normal\",\n",
            "\"ingredients\": [\"cheese\", \"pineapple\"]\n",
            "}\n",
            "```\n",
            "\n"
          ]
        }
      ],
      "execution_count": 30
    },
    {
      "cell_type": "markdown",
      "source": [
        "#### JSON mode\n",
        "\n",
        "To provide control over the schema, and to ensure that you only receive JSON (with no other text or markdown), you can use the Gemini API's [JSON mode](https://github.com/google-gemini/cookbook/blob/main/quickstarts/JSON_mode.ipynb). This forces the model to constrain decoding, such that token selection is guided by the supplied schema."
      ],
      "metadata": {
        "id": "021293096f08"
      }
    },
    {
      "cell_type": "code",
      "source": [
        "import typing_extensions as typing\n",
        "\n",
        "class PizzaOrder(typing.TypedDict):\n",
        "    size: str\n",
        "    ingredients: list[str]\n",
        "    type: str\n",
        "\n",
        "\n",
        "response = client.models.generate_content(\n",
        "    model='gemini-2.0-flash',\n",
        "    config=types.GenerateContentConfig(\n",
        "        temperature=0.1,\n",
        "        response_mime_type=\"application/json\",\n",
        "        response_schema=PizzaOrder,\n",
        "    ),\n",
        "    contents=\"Can I have a large dessert pizza with apple and chocolate\")\n",
        "\n",
        "print(response.text)"
      ],
      "metadata": {
        "id": "50fbf0260912",
        "trusted": true,
        "execution": {
          "iopub.status.busy": "2025-03-31T10:05:19.709202Z",
          "iopub.execute_input": "2025-03-31T10:05:19.709562Z",
          "iopub.status.idle": "2025-03-31T10:05:20.328697Z",
          "shell.execute_reply.started": "2025-03-31T10:05:19.709526Z",
          "shell.execute_reply": "2025-03-31T10:05:20.327445Z"
        },
        "outputId": "a4df551e-0f24-4be9-ede2-7ce14b79cce3",
        "colab": {
          "base_uri": "https://localhost:8080/"
        }
      },
      "outputs": [
        {
          "output_type": "stream",
          "name": "stdout",
          "text": [
            "{\n",
            "  \"size\": \"large\",\n",
            "  \"ingredients\": [\"apple\", \"chocolate\"],\n",
            "  \"type\": \"dessert\"\n",
            "}\n"
          ]
        }
      ],
      "execution_count": 32
    },
    {
      "cell_type": "markdown",
      "source": [
        "### Chain of Thought (CoT)\n",
        "\n",
        "Direct prompting on LLMs can return answers quickly and (in terms of output token usage) efficiently, but they can be prone to hallucination. The answer may \"look\" correct (in terms of language and syntax) but is incorrect in terms of factuality and reasoning.\n",
        "\n",
        "Chain-of-Thought prompting is a technique where you instruct the model to output intermediate reasoning steps, and it typically gets better results, especially when combined with few-shot examples. It is worth noting that this technique doesn't completely eliminate hallucinations, and that it tends to cost more to run, due to the increased token count.\n",
        "\n",
        "Models like the Gemini family are trained to be \"chatty\" or \"thoughtful\" and will provide reasoning steps without prompting, so for this simple example you can ask the model to be more direct in the prompt to force a non-reasoning response. Try re-running this step if the model gets lucky and gets the answer correct on the first try."
      ],
      "metadata": {
        "id": "4a93e338e57c"
      }
    },
    {
      "cell_type": "code",
      "source": [
        "prompt = \"\"\"When I was 4 years old, my partner was 3 times my age. Now, I\n",
        "am 20 years old. How old is my partner? Return the answer directly.\"\"\"\n",
        "\n",
        "response = client.models.generate_content(\n",
        "    model='gemini-2.0-flash',\n",
        "    contents=prompt)\n",
        "\n",
        "print(response.text)"
      ],
      "metadata": {
        "id": "5715555db1c1",
        "trusted": true,
        "execution": {
          "iopub.status.busy": "2025-03-31T10:05:20.32979Z",
          "iopub.execute_input": "2025-03-31T10:05:20.330088Z",
          "iopub.status.idle": "2025-03-31T10:05:20.741339Z",
          "shell.execute_reply.started": "2025-03-31T10:05:20.330052Z",
          "shell.execute_reply": "2025-03-31T10:05:20.740335Z"
        },
        "outputId": "0e470a5c-30a3-4ff4-be6d-e1728dcff0ed",
        "colab": {
          "base_uri": "https://localhost:8080/"
        }
      },
      "outputs": [
        {
          "output_type": "stream",
          "name": "stdout",
          "text": [
            "48\n",
            "\n"
          ]
        }
      ],
      "execution_count": 33
    },
    {
      "cell_type": "markdown",
      "source": [
        "Now try the same approach, but indicate to the model that it should \"think step by step\"."
      ],
      "metadata": {
        "id": "e12b19677bfd"
      }
    },
    {
      "cell_type": "code",
      "source": [
        "prompt = \"\"\"When I was 4 years old, my partner was 3 times my age. Now,\n",
        "I am 20 years old. How old is my partner? Let's think step by step.\"\"\"\n",
        "\n",
        "response = client.models.generate_content(\n",
        "    model='gemini-2.0-flash',\n",
        "    contents=prompt)\n",
        "\n",
        "Markdown(response.text)"
      ],
      "metadata": {
        "id": "ffd7536a481f",
        "trusted": true,
        "execution": {
          "iopub.status.busy": "2025-03-31T10:05:20.742394Z",
          "iopub.execute_input": "2025-03-31T10:05:20.742706Z",
          "iopub.status.idle": "2025-03-31T10:05:21.530187Z",
          "shell.execute_reply.started": "2025-03-31T10:05:20.742677Z",
          "shell.execute_reply": "2025-03-31T10:05:21.529098Z"
        },
        "outputId": "385ade91-bb44-4b96-8cae-e81a307d7f99",
        "colab": {
          "base_uri": "https://localhost:8080/",
          "height": 161
        }
      },
      "outputs": [
        {
          "output_type": "execute_result",
          "data": {
            "text/plain": [
              "<IPython.core.display.Markdown object>"
            ],
            "text/markdown": "Here's how to solve the problem step-by-step:\n\n1.  **Find the age difference:** When you were 4, your partner was 3 times your age, so they were 4 * 3 = 12 years old.\n2.  **Calculate the age gap:** The age difference between you and your partner is 12 - 4 = 8 years.\n3.  **Determine your partner's current age:** Since the age difference remains constant, your partner is always 8 years older than you. Now that you are 20, your partner is 20 + 8 = 28 years old.\n\n**Answer:** Your partner is 28 years old."
          },
          "metadata": {},
          "execution_count": 34
        }
      ],
      "execution_count": 34
    },
    {
      "cell_type": "markdown",
      "source": [
        "### ReAct: Reason and act\n",
        "\n",
        "In this example you will run a ReAct prompt directly in the Gemini API and perform the searching steps yourself. As this prompt follows a well-defined structure, there are frameworks available that wrap the prompt into easier-to-use APIs that make tool calls automatically, such as the LangChain example from the \"Prompting\" whitepaper.\n",
        "\n",
        "To try this out with the Wikipedia search engine, check out the [Searching Wikipedia with ReAct](https://github.com/google-gemini/cookbook/blob/main/examples/Search_Wikipedia_using_ReAct.ipynb) cookbook example.\n",
        "\n",
        "\n",
        "> Note: The prompt and in-context examples used here are from [https://github.com/ysymyth/ReAct](https://github.com/ysymyth/ReAct) which is published under an [MIT license](https://opensource.org/licenses/MIT), Copyright (c) 2023 Shunyu Yao.\n",
        "\n",
        "<table align=left>\n",
        "  <td>\n",
        "    <a target=\"_blank\" href=\"https://aistudio.google.com/prompts/18oo63Lwosd-bQ6Ay51uGogB3Wk3H8XMO\"><img src=\"https://ai.google.dev/site-assets/images/marketing/home/icon-ais.png\" style=\"height: 24px\" height=24/> Open in AI Studio</a>\n",
        "  </td>\n",
        "</table>\n"
      ],
      "metadata": {
        "id": "oiLgBQJj0V53"
      }
    },
    {
      "cell_type": "code",
      "source": [
        "model_instructions = \"\"\"\n",
        "Solve a question answering task with interleaving Thought, Action, Observation steps. Thought can reason about the current situation,\n",
        "Observation is understanding relevant information from an Action's output and Action can be one of three types:\n",
        " (1) <search>entity</search>, which searches the exact entity on Wikipedia and returns the first paragraph if it exists. If not, it\n",
        "     will return some similar entities to search and you can try to search the information from those topics.\n",
        " (2) <lookup>keyword</lookup>, which returns the next sentence containing keyword in the current context. This only does exact matches,\n",
        "     so keep your searches short.\n",
        " (3) <finish>answer</finish>, which returns the answer and finishes the task.\n",
        "\"\"\"\n",
        "\n",
        "example1 = \"\"\"Question\n",
        "Musician and satirist Allie Goertz wrote a song about the \"The Simpsons\" character Milhouse, who Matt Groening named after who?\n",
        "\n",
        "Thought 1\n",
        "The question simplifies to \"The Simpsons\" character Milhouse is named after who. I only need to search Milhouse and find who it is named after.\n",
        "\n",
        "Action 1\n",
        "<search>Milhouse</search>\n",
        "\n",
        "Observation 1\n",
        "Milhouse Mussolini Van Houten is a recurring character in the Fox animated television series The Simpsons voiced by Pamela Hayden and created by Matt Groening.\n",
        "\n",
        "Thought 2\n",
        "The paragraph does not tell who Milhouse is named after, maybe I can look up \"named after\".\n",
        "\n",
        "Action 2\n",
        "<lookup>named after</lookup>\n",
        "\n",
        "Observation 2\n",
        "Milhouse was named after U.S. president Richard Nixon, whose middle name was Milhous.\n",
        "\n",
        "Thought 3\n",
        "Milhouse was named after U.S. president Richard Nixon, so the answer is Richard Nixon.\n",
        "\n",
        "Action 3\n",
        "<finish>Richard Nixon</finish>\n",
        "\"\"\"\n",
        "\n",
        "example2 = \"\"\"Question\n",
        "What is the elevation range for the area that the eastern sector of the Colorado orogeny extends into?\n",
        "\n",
        "Thought 1\n",
        "I need to search Colorado orogeny, find the area that the eastern sector of the Colorado orogeny extends into, then find the elevation range of the area.\n",
        "\n",
        "Action 1\n",
        "<search>Colorado orogeny</search>\n",
        "\n",
        "Observation 1\n",
        "The Colorado orogeny was an episode of mountain building (an orogeny) in Colorado and surrounding areas.\n",
        "\n",
        "Thought 2\n",
        "It does not mention the eastern sector. So I need to look up eastern sector.\n",
        "\n",
        "Action 2\n",
        "<lookup>eastern sector</lookup>\n",
        "\n",
        "Observation 2\n",
        "The eastern sector extends into the High Plains and is called the Central Plains orogeny.\n",
        "\n",
        "Thought 3\n",
        "The eastern sector of Colorado orogeny extends into the High Plains. So I need to search High Plains and find its elevation range.\n",
        "\n",
        "Action 3\n",
        "<search>High Plains</search>\n",
        "\n",
        "Observation 3\n",
        "High Plains refers to one of two distinct land regions\n",
        "\n",
        "Thought 4\n",
        "I need to instead search High Plains (United States).\n",
        "\n",
        "Action 4\n",
        "<search>High Plains (United States)</search>\n",
        "\n",
        "Observation 4\n",
        "The High Plains are a subregion of the Great Plains. From east to west, the High Plains rise in elevation from around 1,800 to 7,000 ft (550 to 2,130m).\n",
        "\n",
        "Thought 5\n",
        "High Plains rise in elevation from around 1,800 to 7,000 ft, so the answer is 1,800 to 7,000 ft.\n",
        "\n",
        "Action 5\n",
        "<finish>1,800 to 7,000 ft</finish>\n",
        "\"\"\"\n",
        "\n",
        "# Come up with more examples yourself, or take a look through https://github.com/ysymyth/ReAct/"
      ],
      "metadata": {
        "id": "cBgyNJ5z0VSs",
        "trusted": true,
        "execution": {
          "iopub.status.busy": "2025-03-31T10:05:21.531769Z",
          "iopub.execute_input": "2025-03-31T10:05:21.532172Z",
          "iopub.status.idle": "2025-03-31T10:05:21.53963Z",
          "shell.execute_reply.started": "2025-03-31T10:05:21.532126Z",
          "shell.execute_reply": "2025-03-31T10:05:21.538374Z"
        }
      },
      "outputs": [],
      "execution_count": null
    },
    {
      "cell_type": "markdown",
      "source": [
        "To capture a single step at a time, while ignoring any hallucinated Observation steps, you will use `stop_sequences` to end the generation process. The steps are `Thought`, `Action`, `Observation`, in that order."
      ],
      "metadata": {
        "id": "C3wbfstjTgey"
      }
    },
    {
      "cell_type": "code",
      "source": [
        "question = \"\"\"Question\n",
        "Who was the youngest author listed on the transformers NLP paper?\n",
        "\"\"\"\n",
        "\n",
        "# You will perform the Action; so generate up to, but not including, the Observation.\n",
        "react_config = types.GenerateContentConfig(\n",
        "    stop_sequences=[\"\\nObservation\"],\n",
        "    system_instruction=model_instructions + example1 + example2,\n",
        ")\n",
        "\n",
        "# Create a chat that has the model instructions and examples pre-seeded.\n",
        "react_chat = client.chats.create(\n",
        "    model='gemini-2.0-flash',\n",
        "    config=react_config,\n",
        ")\n",
        "\n",
        "resp = react_chat.send_message(question)\n",
        "print(resp.text)"
      ],
      "metadata": {
        "id": "8mxrXRkRTdXm",
        "trusted": true,
        "execution": {
          "iopub.status.busy": "2025-03-31T10:05:21.541288Z",
          "iopub.execute_input": "2025-03-31T10:05:21.541697Z",
          "iopub.status.idle": "2025-03-31T10:05:22.176046Z",
          "shell.execute_reply.started": "2025-03-31T10:05:21.541663Z",
          "shell.execute_reply": "2025-03-31T10:05:22.174821Z"
        }
      },
      "outputs": [],
      "execution_count": null
    },
    {
      "cell_type": "markdown",
      "source": [
        "Now you can perform this research yourself and supply it back to the model."
      ],
      "metadata": {
        "id": "aW2PIdLbVv3l"
      }
    },
    {
      "cell_type": "code",
      "source": [
        "observation = \"\"\"Observation 1\n",
        "[1706.03762] Attention Is All You Need\n",
        "Ashish Vaswani, Noam Shazeer, Niki Parmar, Jakob Uszkoreit, Llion Jones, Aidan N. Gomez, Lukasz Kaiser, Illia Polosukhin\n",
        "We propose a new simple network architecture, the Transformer, based solely on attention mechanisms, dispensing with recurrence and convolutions entirely.\n",
        "\"\"\"\n",
        "resp = react_chat.send_message(observation)\n",
        "print(resp.text)"
      ],
      "metadata": {
        "id": "mLMc0DZaV9g2",
        "trusted": true,
        "execution": {
          "iopub.status.busy": "2025-03-31T10:05:22.177457Z",
          "iopub.execute_input": "2025-03-31T10:05:22.177839Z",
          "iopub.status.idle": "2025-03-31T10:05:22.733581Z",
          "shell.execute_reply.started": "2025-03-31T10:05:22.177792Z",
          "shell.execute_reply": "2025-03-31T10:05:22.732393Z"
        }
      },
      "outputs": [],
      "execution_count": null
    },
    {
      "cell_type": "markdown",
      "source": [
        "This process repeats until the `<finish>` action is reached. You can continue running this yourself if you like, or try the [Wikipedia example](https://github.com/google-gemini/cookbook/blob/main/examples/Search_Wikipedia_using_ReAct.ipynb) to see a fully automated ReAct system at work."
      ],
      "metadata": {
        "id": "bo0tzf4nX6dA"
      }
    },
    {
      "cell_type": "markdown",
      "source": [
        "## Thinking mode\n",
        "\n",
        "The experiemental Gemini Flash 2.0 \"Thinking\" model has been trained to generate the \"thinking process\" the model goes through as part of its response. As a result, the Flash Thinking model is capable of stronger reasoning capabilities in its responses.\n",
        "\n",
        "Using a \"thinking mode\" model can provide you with high-quality responses without needing specialised prompting like the previous approaches. One reason this technique is effective is that you induce the model to generate relevant information (\"brainstorming\", or \"thoughts\") that is then used as part of the context in which the final response is generated.\n",
        "\n",
        "Note that when you use the API, you get the final response from the model, but the thoughts are not captured. To see the intermediate thoughts, try out [the thinking mode model in AI Studio](https://aistudio.google.com/prompts/new_chat?model=gemini-2.0-flash-thinking-exp-01-21).\n",
        "\n",
        "<table align=left>\n",
        "  <td>\n",
        "    <a target=\"_blank\" href=\"https://aistudio.google.com/prompts/1Z991SV7lZZZqioOiqIUPv9a9ix-ws4zk\"><img src=\"https://ai.google.dev/site-assets/images/marketing/home/icon-ais.png\" style=\"height: 24px\" height=24/> Open in AI Studio</a>\n",
        "  </td>\n",
        "</table>"
      ],
      "metadata": {
        "id": "7ghx1x4iLOpW"
      }
    },
    {
      "cell_type": "code",
      "source": [
        "import io\n",
        "from IPython.display import Markdown, clear_output\n",
        "\n",
        "\n",
        "response = client.models.generate_content_stream(\n",
        "    model='gemini-2.0-flash-thinking-exp',\n",
        "    contents='Who was the youngest author listed on the transformers NLP paper?',\n",
        ")\n",
        "\n",
        "buf = io.StringIO()\n",
        "for chunk in response:\n",
        "    buf.write(chunk.text)\n",
        "    # Display the response as it is streamed\n",
        "    print(chunk.text, end='')\n",
        "\n",
        "# And then render the finished response as formatted markdown.\n",
        "clear_output()\n",
        "Markdown(buf.getvalue())"
      ],
      "metadata": {
        "trusted": true,
        "execution": {
          "iopub.status.busy": "2025-03-31T10:05:22.738665Z",
          "iopub.execute_input": "2025-03-31T10:05:22.738995Z",
          "iopub.status.idle": "2025-03-31T10:05:29.680662Z",
          "shell.execute_reply.started": "2025-03-31T10:05:22.738962Z",
          "shell.execute_reply": "2025-03-31T10:05:29.679463Z"
        },
        "id": "jejERiZHLOpW"
      },
      "outputs": [],
      "execution_count": null
    },
    {
      "cell_type": "markdown",
      "source": [
        "## Code prompting"
      ],
      "metadata": {
        "id": "jPiZ_eIIaVPt"
      }
    },
    {
      "cell_type": "markdown",
      "source": [
        "### Generating code\n",
        "\n",
        "The Gemini family of models can be used to generate code, configuration and scripts. Generating code can be helpful when learning to code, learning a new language or for rapidly generating a first draft.\n",
        "\n",
        "It's important to be aware that since LLMs can make mistakes, and can repeat training data, it's essential to read and test your code first, and comply with any relevant licenses.\n",
        "\n",
        "<table align=left>\n",
        "  <td>\n",
        "    <a target=\"_blank\" href=\"https://aistudio.google.com/prompts/1YX71JGtzDjXQkgdes8bP6i3oH5lCRKxv\"><img src=\"https://ai.google.dev/site-assets/images/marketing/home/icon-ais.png\" style=\"height: 24px\" height=24/> Open in AI Studio</a>\n",
        "  </td>\n",
        "</table>"
      ],
      "metadata": {
        "id": "ZinKamwXeR6C"
      }
    },
    {
      "cell_type": "code",
      "source": [
        "# The Gemini models love to talk, so it helps to specify they stick to the code if that\n",
        "# is all that you want.\n",
        "code_prompt = \"\"\"\n",
        "Write a Python function to calculate the factorial of a number. No explanation, provide only the code.\n",
        "\"\"\"\n",
        "\n",
        "response = client.models.generate_content(\n",
        "    model='gemini-2.0-flash',\n",
        "    config=types.GenerateContentConfig(\n",
        "        temperature=1,\n",
        "        top_p=1,\n",
        "        max_output_tokens=1024,\n",
        "    ),\n",
        "    contents=code_prompt)\n",
        "\n",
        "Markdown(response.text)"
      ],
      "metadata": {
        "id": "fOQP9pqmeUO1",
        "trusted": true,
        "execution": {
          "iopub.status.busy": "2025-03-31T10:05:29.682131Z",
          "iopub.execute_input": "2025-03-31T10:05:29.682517Z",
          "iopub.status.idle": "2025-03-31T10:05:30.209135Z",
          "shell.execute_reply.started": "2025-03-31T10:05:29.682479Z",
          "shell.execute_reply": "2025-03-31T10:05:30.207926Z"
        }
      },
      "outputs": [],
      "execution_count": null
    },
    {
      "cell_type": "markdown",
      "source": [
        "### Code execution\n",
        "\n",
        "The Gemini API can automatically run generated code too, and will return the output.\n",
        "\n",
        "<table align=left>\n",
        "  <td>\n",
        "    <a target=\"_blank\" href=\"https://aistudio.google.com/prompts/11veFr_VYEwBWcLkhNLr-maCG0G8sS_7Z\"><img src=\"https://ai.google.dev/site-assets/images/marketing/home/icon-ais.png\" style=\"height: 24px\" height=24/> Open in AI Studio</a>\n",
        "  </td>\n",
        "</table>"
      ],
      "metadata": {
        "id": "wlBMWSFhgVRQ"
      }
    },
    {
      "cell_type": "code",
      "source": [
        "from pprint import pprint\n",
        "\n",
        "config = types.GenerateContentConfig(\n",
        "    tools=[types.Tool(code_execution=types.ToolCodeExecution())],\n",
        ")\n",
        "\n",
        "code_exec_prompt = \"\"\"\n",
        "Generate the first 14 odd prime numbers, then calculate their sum.\n",
        "\"\"\"\n",
        "\n",
        "response = client.models.generate_content(\n",
        "    model='gemini-2.0-flash',\n",
        "    config=config,\n",
        "    contents=code_exec_prompt)\n",
        "\n",
        "for part in response.candidates[0].content.parts:\n",
        "  pprint(part.to_json_dict())\n",
        "  print(\"-----\")"
      ],
      "metadata": {
        "id": "jT3OfWYfhjRL",
        "trusted": true,
        "execution": {
          "iopub.status.busy": "2025-03-31T10:05:30.210623Z",
          "iopub.execute_input": "2025-03-31T10:05:30.211033Z",
          "iopub.status.idle": "2025-03-31T10:05:32.46561Z",
          "shell.execute_reply.started": "2025-03-31T10:05:30.210989Z",
          "shell.execute_reply": "2025-03-31T10:05:32.464035Z"
        }
      },
      "outputs": [],
      "execution_count": null
    },
    {
      "cell_type": "markdown",
      "source": [
        "This response contains multiple parts, including an opening and closing text part that represent regular responses, an `executable_code` part that represents generated code and a `code_execution_result` part that represents the results from running the generated code.\n",
        "\n",
        "You can explore them individually."
      ],
      "metadata": {
        "id": "ZspT1GSkjG6d"
      }
    },
    {
      "cell_type": "code",
      "source": [
        "for part in response.candidates[0].content.parts:\n",
        "    if part.text:\n",
        "        display(Markdown(part.text))\n",
        "    elif part.executable_code:\n",
        "        display(Markdown(f'```python\\n{part.executable_code.code}\\n```'))\n",
        "    elif part.code_execution_result:\n",
        "        if part.code_execution_result.outcome != 'OUTCOME_OK':\n",
        "            display(Markdown(f'## Status {part.code_execution_result.outcome}'))\n",
        "\n",
        "        display(Markdown(f'```\\n{part.code_execution_result.output}\\n```'))"
      ],
      "metadata": {
        "trusted": true,
        "execution": {
          "iopub.status.busy": "2025-03-31T10:05:32.467378Z",
          "iopub.execute_input": "2025-03-31T10:05:32.467952Z",
          "iopub.status.idle": "2025-03-31T10:05:32.484683Z",
          "shell.execute_reply.started": "2025-03-31T10:05:32.467898Z",
          "shell.execute_reply": "2025-03-31T10:05:32.483654Z"
        },
        "id": "mHJ1YHLbLOpX"
      },
      "outputs": [],
      "execution_count": null
    },
    {
      "cell_type": "markdown",
      "source": [
        "### Explaining code\n",
        "\n",
        "The Gemini family of models can explain code to you too. In this example, you pass a [bash script](https://github.com/magicmonty/bash-git-prompt) and ask some questions.\n",
        "\n",
        "<table align=left>\n",
        "  <td>\n",
        "    <a target=\"_blank\" href=\"https://aistudio.google.com/prompts/1N7LGzWzCYieyOf_7bAG4plrmkpDNmUyb\"><img src=\"https://ai.google.dev/site-assets/images/marketing/home/icon-ais.png\" style=\"height: 24px\" height=24/> Open in AI Studio</a>\n",
        "  </td>\n",
        "</table>"
      ],
      "metadata": {
        "id": "1gUX8QzCj4d5"
      }
    },
    {
      "cell_type": "code",
      "source": [
        "file_contents = !curl https://raw.githubusercontent.com/magicmonty/bash-git-prompt/refs/heads/master/gitprompt.sh\n",
        "\n",
        "explain_prompt = f\"\"\"\n",
        "Please explain what this file does at a very high level. What is it, and why would I use it?\n",
        "\n",
        "```\n",
        "{file_contents}\n",
        "```\n",
        "\"\"\"\n",
        "\n",
        "response = client.models.generate_content(\n",
        "    model='gemini-2.0-flash',\n",
        "    contents=explain_prompt)\n",
        "\n",
        "Markdown(response.text)"
      ],
      "metadata": {
        "id": "7_jPMMoxkIEb",
        "trusted": true,
        "execution": {
          "iopub.status.busy": "2025-03-31T10:05:32.485947Z",
          "iopub.execute_input": "2025-03-31T10:05:32.486266Z",
          "iopub.status.idle": "2025-03-31T10:05:34.472037Z",
          "shell.execute_reply.started": "2025-03-31T10:05:32.486236Z",
          "shell.execute_reply": "2025-03-31T10:05:34.471006Z"
        }
      },
      "outputs": [],
      "execution_count": null
    },
    {
      "cell_type": "markdown",
      "source": [
        "## Learn more\n",
        "\n",
        "To learn more about prompting in depth:\n",
        "\n",
        "* Check out the whitepaper issued with today's content,\n",
        "* Try out the apps listed at the top of this notebook ([TextFX](https://textfx.withgoogle.com/), [SQL Talk](https://sql-talk-r5gdynozbq-uc.a.run.app/) and [NotebookLM](https://notebooklm.google/)),\n",
        "* Read the [Introduction to Prompting](https://ai.google.dev/gemini-api/docs/prompting-intro) from the Gemini API docs,\n",
        "* Explore the Gemini API's [prompt gallery](https://ai.google.dev/gemini-api/prompts) and try them out in AI Studio,\n",
        "* Check out the Gemini API cookbook for [inspirational examples](https://github.com/google-gemini/cookbook/blob/main/examples/) and [educational quickstarts](https://github.com/google-gemini/cookbook/blob/main/quickstarts/).\n",
        "\n",
        "Be sure to check out the codelabs on day 3 too, where you will explore some more advanced prompting with code execution.\n",
        "\n",
        "And please share anything exciting you have tried in the Discord!\n",
        "\n",
        "*- [Mark McD](https://linktr.ee/markmcd)*"
      ],
      "metadata": {
        "id": "2a8266d97ce5"
      }
    }
  ]
}
